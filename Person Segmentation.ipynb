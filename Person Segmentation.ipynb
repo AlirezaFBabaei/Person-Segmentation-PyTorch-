{
  "cells": [
    {
      "cell_type": "markdown",
      "metadata": {
        "id": "ogL-5PX63xE2"
      },
      "source": [
        "# Model Implementation"
      ]
    },
    {
      "cell_type": "code",
      "execution_count": null,
      "metadata": {
        "id": "crum60SO2wUi"
      },
      "outputs": [],
      "source": [
        "import torch\n",
        "import torch.nn as nn\n",
        "import torchvision.transforms.functional as TF\n",
        "\n",
        "class DoubleConv(nn.Module):\n",
        "  def __init__(self, in_channels, out_channels):\n",
        "    super(DoubleConv, self).__init__()\n",
        "\n",
        "    self.conv = nn.Sequential(\n",
        "        nn.Conv2d(in_channels, out_channels, 3, 1, 1, bias=False),\n",
        "        nn.BatchNorm2d(out_channels),\n",
        "        nn.ReLU(inplace=True),\n",
        "\n",
        "        nn.Conv2d(out_channels, out_channels, 3, 1, 1, bias=False),\n",
        "        nn.BatchNorm2d(out_channels),\n",
        "        nn.ReLU(inplace=True)\n",
        "    )\n",
        "\n",
        "  def forward(self, x):\n",
        "    return self.conv(x)\n",
        "\n",
        "class UNet(nn.Module):\n",
        "  def __init__(self, in_channels=3, out_channels=1, features=[64, 128, 256, 512]):\n",
        "    super(UNet, self).__init__()\n",
        "\n",
        "    self.downs = nn.ModuleList()\n",
        "    self.ups = nn.ModuleList()\n",
        "    self.pool = nn.MaxPool2d(kernel_size=2, stride=2)\n",
        "\n",
        "    # Downsamplin part of UNet\n",
        "    for feature in features:\n",
        "      self.downs.append(DoubleConv(in_channels, feature))\n",
        "      in_channels = feature\n",
        "\n",
        "    # Upsampling part of UNet\n",
        "    for feature in reversed(features):\n",
        "      self.ups.append(\n",
        "          nn.ConvTranspose2d(\n",
        "              feature*2, feature, kernel_size=2, stride=2)\n",
        "      )\n",
        "      self.ups.append(DoubleConv(feature*2, feature))\n",
        "\n",
        "      self.bottleneck = DoubleConv(features[-1], features[-1]*2)\n",
        "      self.final_conv = nn.Conv2d(features[0], out_channels, kernel_size=1)\n",
        "\n",
        "  def forward(self, x):\n",
        "    skip_connections = []\n",
        "\n",
        "    for down in self.downs:\n",
        "      x = down(x)\n",
        "      skip_connections.append(x)\n",
        "      x = self.pool(x)\n",
        "\n",
        "    x = self.bottleneck(x)\n",
        "    skip_connections = skip_connections[::-1]\n",
        "\n",
        "    for idx in range(0, len(self.ups), 2):\n",
        "      x = self.ups[idx](x)\n",
        "      skip_connection = skip_connections[idx//2]\n",
        "\n",
        "      if x.shape != skip_connection.shape:\n",
        "        x = TF.resize(x, size=skip_connection.shape[2:])\n",
        "\n",
        "      concat_skip = torch.cat((x, skip_connection), dim=1)\n",
        "      x = self.ups[idx+1](concat_skip)\n",
        "\n",
        "    return self.final_conv(x)"
      ]
    },
    {
      "cell_type": "code",
      "execution_count": null,
      "metadata": {
        "id": "pjQdtI_INkeb"
      },
      "outputs": [],
      "source": [
        "def test():\n",
        "  x = torch.randn((3, 1, 161, 161))\n",
        "  model = UNet(in_channels=1, out_channels=1)\n",
        "  preds = model(x)\n",
        "  print(preds.shape)\n",
        "  print(x.shape)\n",
        "\n",
        "  assert preds.shape == x.shape"
      ]
    },
    {
      "cell_type": "markdown",
      "metadata": {
        "id": "SkgPf6C5K13P"
      },
      "source": [
        "# Dataset Loading"
      ]
    },
    {
      "cell_type": "code",
      "execution_count": null,
      "metadata": {
        "id": "fj9SgLbhK4Yg"
      },
      "outputs": [],
      "source": [
        "import os\n",
        "from PIL import Image\n",
        "from torch.utils.data import Dataset\n",
        "import numpy as np\n",
        "\n",
        "class SegmentationDataset(Dataset):\n",
        "  def __init__(self, image_dir, mask_dir, transform=None):\n",
        "    self.image_dir = image_dir\n",
        "    self.mask_dir = mask_dir\n",
        "    self.transform = transform\n",
        "    self.images = os.listdir(image_dir)\n",
        "\n",
        "  def __len__(self):\n",
        "    return len(self.images)\n",
        "\n",
        "  def __getitem__(self, index):\n",
        "    img_path = os.path.join(self.image_dir, self.images[index])\n",
        "    mask_path = os.path.join(self.mask_dir, self.images[index].replace('.jpg', '.png'))\n",
        "\n",
        "    image = np.array(Image.open(img_path).convert('RGB'), dtype=np.float32)\n",
        "    mask = np.array(Image.open(mask_path).convert('L'), dtype=np.float32)\n",
        "    mask[mask == 255] = 1\n",
        "\n",
        "    if self.transform is not None:\n",
        "      augmentations = self.transform(image=image, mask = mask)\n",
        "\n",
        "      image = augmentations['image']\n",
        "      mask = augmentations['mask']\n",
        "\n",
        "    return image, mask\n",
        "\n",
        "def check_accuracy(loader, model, device='cuda'):\n",
        "      num_correct = 0\n",
        "      num_pixels = 0\n",
        "      dice_score = 0\n",
        "\n",
        "      model.eval()\n",
        "\n",
        "      with torch.no_grad():\n",
        "        for x, y in loader:\n",
        "          x = x.to(device)\n",
        "          y = y.to(device).unsqueeze(1)\n",
        "\n",
        "          preds = torch.sigmoid(model(x))\n",
        "          preds = (preds > 0.5).float()\n",
        "\n",
        "          num_correct += (preds == y).sum()\n",
        "          num_pixels += torch.numel(preds)\n",
        "          dice_score += (2 * (preds * y).sum()) / ((preds + y).sum() + 1e-8)\n",
        "\n",
        "      print(f\"Got {num_correct}/{num_pixels} with acc {num_correct/num_pixels*100:.2f}\")\n",
        "      print(f\"Dice score: {dice_score/len(loader)}\")\n",
        "\n",
        "      model.train()\n",
        "\n",
        "def save_predictions_as_imgs(loader, model, folder=\"saved_images/\", device=\"cuda\"):\n",
        "      model.eval()\n",
        "      for idx, (x, y) in enumerate(loader):\n",
        "          x = x.to(device=device)\n",
        "          with torch.no_grad():\n",
        "              preds = torch.sigmoid(model(x))\n",
        "              preds = (preds > 0.5).float()\n",
        "          torchvision.utils.save_image(\n",
        "              preds, f\"{folder}/pred_{idx}.png\"\n",
        "          )\n",
        "          torchvision.utils.save_image(y.unsqueeze(1), f\"{folder}{idx}.png\")\n",
        "\n",
        "      model.train()"
      ]
    },
    {
      "cell_type": "markdown",
      "metadata": {
        "id": "Cn197FhuPcxn"
      },
      "source": [
        "# Utils"
      ]
    },
    {
      "cell_type": "code",
      "execution_count": null,
      "metadata": {
        "id": "4p6se7zRPeFC"
      },
      "outputs": [],
      "source": [
        "import torch\n",
        "import torchvision\n",
        "from torch.utils.data import DataLoader\n",
        "\n",
        "def save_checkpoint(state, filename=\"my_checkpoint.pth.tar\"):\n",
        "    print(\"=> Saving checkpoint\")\n",
        "    torch.save(state, filename)\n",
        "\n",
        "def load_checkpoint(checkpoint, model):\n",
        "    print(\"=> Loading checkpoint\")\n",
        "    model.load_state_dict(checkpoint[\"state_dict\"])\n",
        "\n",
        "def get_loaders(\n",
        "    train_dir,\n",
        "    train_maskdir,\n",
        "    val_dir,\n",
        "    val_maskdir,\n",
        "    batch_size,\n",
        "    train_transform,\n",
        "    val_transform,\n",
        "    num_workers=4,\n",
        "    pin_memory=True,\n",
        "):\n",
        "  train_ds = SegmentationDataset(\n",
        "          image_dir=train_dir,\n",
        "          mask_dir=train_maskdir,\n",
        "          transform=train_transform,\n",
        "      )\n",
        "\n",
        "  train_loader = DataLoader(\n",
        "          train_ds,\n",
        "          batch_size=batch_size,\n",
        "          num_workers=num_workers,\n",
        "          pin_memory=pin_memory,\n",
        "          shuffle=True,\n",
        "      )\n",
        "\n",
        "  val_ds = SegmentationDataset(\n",
        "          image_dir=val_dir,\n",
        "          mask_dir=val_maskdir,\n",
        "          transform=val_transform,\n",
        "      )\n",
        "\n",
        "  val_loader = DataLoader(\n",
        "          val_ds,\n",
        "          batch_size=batch_size,\n",
        "          num_workers=num_workers,\n",
        "          pin_memory=pin_memory,\n",
        "          shuffle=False,\n",
        "      )\n",
        "  return train_loader, val_loader"
      ]
    },
    {
      "cell_type": "markdown",
      "metadata": {
        "id": "0RVE19joOvbi"
      },
      "source": [
        "aasffsfaffffffffffffffffafjiuiui# Training"
      ]
    },
    {
      "cell_type": "code",
      "execution_count": null,
      "metadata": {
        "id": "XDs9w1VfOwew"
      },
      "outputs": [],
      "source": [
        "import torch\n",
        "import albumentations  as A\n",
        "from albumentations.pytorch import ToTensorV2\n",
        "from tqdm import tqdm\n",
        "import torch.nn as nn\n",
        "import torch.optim as optim\n",
        "\n",
        "# Hyperparameters\n",
        "LR = 1e-4\n",
        "BATCH_SIZE = 32\n",
        "EPOCHS = 50\n",
        "WORKERS = 2\n",
        "HEIGHT = 360\n",
        "WIDTH = 240\n",
        "PIN_MEMORY = True\n",
        "LOAD_MODEL = False\n",
        "TRAIN_IMG_DIR = \"\"\n",
        "TRAIN_MASK_DIR = \"\"\n",
        "TEST_IMG_DIR = \"\"\n",
        "TEST_MASK_DIR = \"\"\n",
        "DEVICE = 'cuda' if torch.cuda.is_available() else ' cpu'"
      ]
    },
    {
      "cell_type": "code",
      "execution_count": null,
      "metadata": {
        "colab": {
          "base_uri": "https://localhost:8080/"
        },
        "id": "y7S2eJ6k7xuj",
        "outputId": "daadc6a6-d0a0-4524-c2e9-ea9402c946c4"
      },
      "outputs": [
        {
          "name": "stderr",
          "output_type": "stream",
          "text": [
            "100%|██████████| 32/32 [00:47<00:00,  1.48s/it, loss=<built-in method item of Tensor object at 0x7aed955f1670>]\n"
          ]
        },
        {
          "name": "stdout",
          "output_type": "stream",
          "text": [
            "=> Saving checkpoint\n",
            "Got 13185045/17280000 with acc 76.30\n",
            "Dice score: 0.2066970318555832\n"
          ]
        },
        {
          "name": "stderr",
          "output_type": "stream",
          "text": [
            "100%|██████████| 32/32 [00:41<00:00,  1.30s/it, loss=<built-in method item of Tensor object at 0x7aed9673a930>]\n"
          ]
        },
        {
          "name": "stdout",
          "output_type": "stream",
          "text": [
            "=> Saving checkpoint\n",
            "Got 14411395/17280000 with acc 83.40\n",
            "Dice score: 0.6968648433685303\n"
          ]
        },
        {
          "name": "stderr",
          "output_type": "stream",
          "text": [
            "100%|██████████| 32/32 [00:42<00:00,  1.32s/it, loss=<built-in method item of Tensor object at 0x7aed95604fe0>]\n"
          ]
        },
        {
          "name": "stdout",
          "output_type": "stream",
          "text": [
            "=> Saving checkpoint\n",
            "Got 14371263/17280000 with acc 83.17\n",
            "Dice score: 0.7177923917770386\n"
          ]
        },
        {
          "name": "stderr",
          "output_type": "stream",
          "text": [
            "100%|██████████| 32/32 [00:42<00:00,  1.32s/it, loss=<built-in method item of Tensor object at 0x7aed95606610>]\n"
          ]
        },
        {
          "name": "stdout",
          "output_type": "stream",
          "text": [
            "=> Saving checkpoint\n",
            "Got 14819068/17280000 with acc 85.76\n",
            "Dice score: 0.7359612584114075\n"
          ]
        },
        {
          "name": "stderr",
          "output_type": "stream",
          "text": [
            "100%|██████████| 32/32 [00:41<00:00,  1.31s/it, loss=<built-in method item of Tensor object at 0x7aed95605210>]\n"
          ]
        },
        {
          "name": "stdout",
          "output_type": "stream",
          "text": [
            "=> Saving checkpoint\n",
            "Got 14850891/17280000 with acc 85.94\n",
            "Dice score: 0.7441447973251343\n"
          ]
        },
        {
          "name": "stderr",
          "output_type": "stream",
          "text": [
            "100%|██████████| 32/32 [00:41<00:00,  1.31s/it, loss=<built-in method item of Tensor object at 0x7aed95605080>]\n"
          ]
        },
        {
          "name": "stdout",
          "output_type": "stream",
          "text": [
            "=> Saving checkpoint\n",
            "Got 14392460/17280000 with acc 83.29\n",
            "Dice score: 0.7260320782661438\n"
          ]
        },
        {
          "name": "stderr",
          "output_type": "stream",
          "text": [
            "100%|██████████| 32/32 [00:42<00:00,  1.33s/it, loss=<built-in method item of Tensor object at 0x7aed95599b70>]\n"
          ]
        },
        {
          "name": "stdout",
          "output_type": "stream",
          "text": [
            "=> Saving checkpoint\n",
            "Got 14640726/17280000 with acc 84.73\n",
            "Dice score: 0.7476402521133423\n"
          ]
        },
        {
          "name": "stderr",
          "output_type": "stream",
          "text": [
            "100%|██████████| 32/32 [00:41<00:00,  1.31s/it, loss=<built-in method item of Tensor object at 0x7aed955b6e80>]\n"
          ]
        },
        {
          "name": "stdout",
          "output_type": "stream",
          "text": [
            "=> Saving checkpoint\n",
            "Got 14926270/17280000 with acc 86.38\n",
            "Dice score: 0.7528188824653625\n"
          ]
        },
        {
          "name": "stderr",
          "output_type": "stream",
          "text": [
            "100%|██████████| 32/32 [00:41<00:00,  1.31s/it, loss=<built-in method item of Tensor object at 0x7aed95635850>]\n"
          ]
        },
        {
          "name": "stdout",
          "output_type": "stream",
          "text": [
            "=> Saving checkpoint\n",
            "Got 14967407/17280000 with acc 86.62\n",
            "Dice score: 0.7675405740737915\n"
          ]
        },
        {
          "name": "stderr",
          "output_type": "stream",
          "text": [
            "100%|██████████| 32/32 [00:41<00:00,  1.31s/it, loss=<built-in method item of Tensor object at 0x7aed95598540>]\n"
          ]
        },
        {
          "name": "stdout",
          "output_type": "stream",
          "text": [
            "=> Saving checkpoint\n",
            "Got 14557441/17280000 with acc 84.24\n",
            "Dice score: 0.7398164868354797\n"
          ]
        },
        {
          "name": "stderr",
          "output_type": "stream",
          "text": [
            "100%|██████████| 32/32 [00:41<00:00,  1.30s/it, loss=<built-in method item of Tensor object at 0x7aed95681710>]\n"
          ]
        },
        {
          "name": "stdout",
          "output_type": "stream",
          "text": [
            "=> Saving checkpoint\n",
            "Got 15192387/17280000 with acc 87.92\n",
            "Dice score: 0.7517632246017456\n"
          ]
        },
        {
          "name": "stderr",
          "output_type": "stream",
          "text": [
            "100%|██████████| 32/32 [00:42<00:00,  1.31s/it, loss=<built-in method item of Tensor object at 0x7aed955b66b0>]\n"
          ]
        },
        {
          "name": "stdout",
          "output_type": "stream",
          "text": [
            "=> Saving checkpoint\n",
            "Got 15198816/17280000 with acc 87.96\n",
            "Dice score: 0.7792037725448608\n"
          ]
        },
        {
          "name": "stderr",
          "output_type": "stream",
          "text": [
            "100%|██████████| 32/32 [00:41<00:00,  1.31s/it, loss=<built-in method item of Tensor object at 0x7aed956822a0>]\n"
          ]
        },
        {
          "name": "stdout",
          "output_type": "stream",
          "text": [
            "=> Saving checkpoint\n",
            "Got 15064833/17280000 with acc 87.18\n",
            "Dice score: 0.7756943106651306\n"
          ]
        },
        {
          "name": "stderr",
          "output_type": "stream",
          "text": [
            "100%|██████████| 32/32 [00:41<00:00,  1.31s/it, loss=<built-in method item of Tensor object at 0x7aed95681120>]\n"
          ]
        },
        {
          "name": "stdout",
          "output_type": "stream",
          "text": [
            "=> Saving checkpoint\n",
            "Got 15286621/17280000 with acc 88.46\n",
            "Dice score: 0.7702258229255676\n"
          ]
        },
        {
          "name": "stderr",
          "output_type": "stream",
          "text": [
            "100%|██████████| 32/32 [00:41<00:00,  1.30s/it, loss=<built-in method item of Tensor object at 0x7aed95490310>]\n"
          ]
        },
        {
          "name": "stdout",
          "output_type": "stream",
          "text": [
            "=> Saving checkpoint\n",
            "Got 15330925/17280000 with acc 88.72\n",
            "Dice score: 0.7838887572288513\n"
          ]
        },
        {
          "name": "stderr",
          "output_type": "stream",
          "text": [
            "100%|██████████| 32/32 [00:41<00:00,  1.31s/it, loss=<built-in method item of Tensor object at 0x7aed95491b20>]\n"
          ]
        },
        {
          "name": "stdout",
          "output_type": "stream",
          "text": [
            "=> Saving checkpoint\n",
            "Got 15366340/17280000 with acc 88.93\n",
            "Dice score: 0.7864099144935608\n"
          ]
        },
        {
          "name": "stderr",
          "output_type": "stream",
          "text": [
            "100%|██████████| 32/32 [00:42<00:00,  1.32s/it, loss=<built-in method item of Tensor object at 0x7aed954901d0>]\n"
          ]
        },
        {
          "name": "stdout",
          "output_type": "stream",
          "text": [
            "=> Saving checkpoint\n",
            "Got 14649067/17280000 with acc 84.77\n",
            "Dice score: 0.7629921436309814\n"
          ]
        },
        {
          "name": "stderr",
          "output_type": "stream",
          "text": [
            "100%|██████████| 32/32 [00:41<00:00,  1.31s/it, loss=<built-in method item of Tensor object at 0x7aed9549ca90>]\n"
          ]
        },
        {
          "name": "stdout",
          "output_type": "stream",
          "text": [
            "=> Saving checkpoint\n",
            "Got 15358853/17280000 with acc 88.88\n",
            "Dice score: 0.773702085018158\n"
          ]
        },
        {
          "name": "stderr",
          "output_type": "stream",
          "text": [
            "100%|██████████| 32/32 [00:41<00:00,  1.30s/it, loss=<built-in method item of Tensor object at 0x7aed95680bd0>]\n"
          ]
        },
        {
          "name": "stdout",
          "output_type": "stream",
          "text": [
            "=> Saving checkpoint\n",
            "Got 15329581/17280000 with acc 88.71\n",
            "Dice score: 0.7885964512825012\n"
          ]
        },
        {
          "name": "stderr",
          "output_type": "stream",
          "text": [
            "100%|██████████| 32/32 [00:41<00:00,  1.31s/it, loss=<built-in method item of Tensor object at 0x7aed9549d120>]\n"
          ]
        },
        {
          "name": "stdout",
          "output_type": "stream",
          "text": [
            "=> Saving checkpoint\n",
            "Got 15421051/17280000 with acc 89.24\n",
            "Dice score: 0.8028994798660278\n"
          ]
        },
        {
          "name": "stderr",
          "output_type": "stream",
          "text": [
            "100%|██████████| 32/32 [00:41<00:00,  1.30s/it, loss=<built-in method item of Tensor object at 0x7aed9549e480>]\n"
          ]
        },
        {
          "name": "stdout",
          "output_type": "stream",
          "text": [
            "=> Saving checkpoint\n",
            "Got 14983437/17280000 with acc 86.71\n",
            "Dice score: 0.7578513026237488\n"
          ]
        },
        {
          "name": "stderr",
          "output_type": "stream",
          "text": [
            "100%|██████████| 32/32 [00:41<00:00,  1.31s/it, loss=<built-in method item of Tensor object at 0x7aed95490a90>]\n"
          ]
        },
        {
          "name": "stdout",
          "output_type": "stream",
          "text": [
            "=> Saving checkpoint\n",
            "Got 15149905/17280000 with acc 87.67\n",
            "Dice score: 0.7257282137870789\n"
          ]
        },
        {
          "name": "stderr",
          "output_type": "stream",
          "text": [
            "100%|██████████| 32/32 [00:42<00:00,  1.33s/it, loss=<built-in method item of Tensor object at 0x7aed954c5e90>]\n"
          ]
        },
        {
          "name": "stdout",
          "output_type": "stream",
          "text": [
            "=> Saving checkpoint\n",
            "Got 15387181/17280000 with acc 89.05\n",
            "Dice score: 0.7788859009742737\n"
          ]
        },
        {
          "name": "stderr",
          "output_type": "stream",
          "text": [
            "100%|██████████| 32/32 [00:41<00:00,  1.31s/it, loss=<built-in method item of Tensor object at 0x7aed954c63e0>]\n"
          ]
        },
        {
          "name": "stdout",
          "output_type": "stream",
          "text": [
            "=> Saving checkpoint\n",
            "Got 15457150/17280000 with acc 89.45\n",
            "Dice score: 0.7869301438331604\n"
          ]
        },
        {
          "name": "stderr",
          "output_type": "stream",
          "text": [
            "100%|██████████| 32/32 [00:41<00:00,  1.31s/it, loss=<built-in method item of Tensor object at 0x7aed954c5210>]\n"
          ]
        },
        {
          "name": "stdout",
          "output_type": "stream",
          "text": [
            "=> Saving checkpoint\n",
            "Got 15261742/17280000 with acc 88.32\n",
            "Dice score: 0.7964499592781067\n"
          ]
        },
        {
          "name": "stderr",
          "output_type": "stream",
          "text": [
            "100%|██████████| 32/32 [00:42<00:00,  1.33s/it, loss=<built-in method item of Tensor object at 0x7aed954dd3f0>]\n"
          ]
        },
        {
          "name": "stdout",
          "output_type": "stream",
          "text": [
            "=> Saving checkpoint\n",
            "Got 15364194/17280000 with acc 88.91\n",
            "Dice score: 0.7656365036964417\n"
          ]
        },
        {
          "name": "stderr",
          "output_type": "stream",
          "text": [
            "100%|██████████| 32/32 [00:41<00:00,  1.31s/it, loss=<built-in method item of Tensor object at 0x7aed954c7ba0>]\n"
          ]
        },
        {
          "name": "stdout",
          "output_type": "stream",
          "text": [
            "=> Saving checkpoint\n",
            "Got 15586694/17280000 with acc 90.20\n",
            "Dice score: 0.810836136341095\n"
          ]
        },
        {
          "name": "stderr",
          "output_type": "stream",
          "text": [
            "100%|██████████| 32/32 [00:42<00:00,  1.34s/it, loss=<built-in method item of Tensor object at 0x7aed954df010>]\n"
          ]
        },
        {
          "name": "stdout",
          "output_type": "stream",
          "text": [
            "=> Saving checkpoint\n",
            "Got 15337752/17280000 with acc 88.76\n",
            "Dice score: 0.7911452054977417\n"
          ]
        },
        {
          "name": "stderr",
          "output_type": "stream",
          "text": [
            "100%|██████████| 32/32 [00:41<00:00,  1.31s/it, loss=<built-in method item of Tensor object at 0x7aed954c7a60>]\n"
          ]
        },
        {
          "name": "stdout",
          "output_type": "stream",
          "text": [
            "=> Saving checkpoint\n",
            "Got 14134897/17280000 with acc 81.80\n",
            "Dice score: 0.7124385237693787\n"
          ]
        },
        {
          "name": "stderr",
          "output_type": "stream",
          "text": [
            "100%|██████████| 32/32 [00:41<00:00,  1.31s/it, loss=<built-in method item of Tensor object at 0x7aed954c44a0>]\n"
          ]
        },
        {
          "name": "stdout",
          "output_type": "stream",
          "text": [
            "=> Saving checkpoint\n",
            "Got 15529798/17280000 with acc 89.87\n",
            "Dice score: 0.7930610179901123\n"
          ]
        },
        {
          "name": "stderr",
          "output_type": "stream",
          "text": [
            "100%|██████████| 32/32 [00:41<00:00,  1.31s/it, loss=<built-in method item of Tensor object at 0x7aed954ed0d0>]\n"
          ]
        },
        {
          "name": "stdout",
          "output_type": "stream",
          "text": [
            "=> Saving checkpoint\n",
            "Got 15450669/17280000 with acc 89.41\n",
            "Dice score: 0.8000096082687378\n"
          ]
        },
        {
          "name": "stderr",
          "output_type": "stream",
          "text": [
            "100%|██████████| 32/32 [00:42<00:00,  1.32s/it, loss=<built-in method item of Tensor object at 0x7aed954ee200>]\n"
          ]
        },
        {
          "name": "stdout",
          "output_type": "stream",
          "text": [
            "=> Saving checkpoint\n",
            "Got 15418983/17280000 with acc 89.23\n",
            "Dice score: 0.7965098023414612\n"
          ]
        },
        {
          "name": "stderr",
          "output_type": "stream",
          "text": [
            "100%|██████████| 32/32 [00:41<00:00,  1.31s/it, loss=<built-in method item of Tensor object at 0x7aed954ed1c0>]\n"
          ]
        },
        {
          "name": "stdout",
          "output_type": "stream",
          "text": [
            "=> Saving checkpoint\n",
            "Got 15230521/17280000 with acc 88.14\n",
            "Dice score: 0.7833796739578247\n"
          ]
        },
        {
          "name": "stderr",
          "output_type": "stream",
          "text": [
            "100%|██████████| 32/32 [00:41<00:00,  1.31s/it, loss=<built-in method item of Tensor object at 0x7aed954edda0>]\n"
          ]
        },
        {
          "name": "stdout",
          "output_type": "stream",
          "text": [
            "=> Saving checkpoint\n",
            "Got 15474389/17280000 with acc 89.55\n",
            "Dice score: 0.7856608033180237\n"
          ]
        },
        {
          "name": "stderr",
          "output_type": "stream",
          "text": [
            "100%|██████████| 32/32 [00:41<00:00,  1.31s/it, loss=<built-in method item of Tensor object at 0x7aed95520cc0>]\n"
          ]
        },
        {
          "name": "stdout",
          "output_type": "stream",
          "text": [
            "=> Saving checkpoint\n",
            "Got 15556225/17280000 with acc 90.02\n",
            "Dice score: 0.8051518201828003\n"
          ]
        },
        {
          "name": "stderr",
          "output_type": "stream",
          "text": [
            "100%|██████████| 32/32 [00:41<00:00,  1.31s/it, loss=<built-in method item of Tensor object at 0x7aed954de7a0>]\n"
          ]
        },
        {
          "name": "stdout",
          "output_type": "stream",
          "text": [
            "=> Saving checkpoint\n",
            "Got 15510019/17280000 with acc 89.76\n",
            "Dice score: 0.7944649457931519\n"
          ]
        },
        {
          "name": "stderr",
          "output_type": "stream",
          "text": [
            "100%|██████████| 32/32 [00:41<00:00,  1.31s/it, loss=<built-in method item of Tensor object at 0x7aed95521300>]\n"
          ]
        },
        {
          "name": "stdout",
          "output_type": "stream",
          "text": [
            "=> Saving checkpoint\n",
            "Got 15557385/17280000 with acc 90.03\n",
            "Dice score: 0.8058380484580994\n"
          ]
        },
        {
          "name": "stderr",
          "output_type": "stream",
          "text": [
            "100%|██████████| 32/32 [00:42<00:00,  1.33s/it, loss=<built-in method item of Tensor object at 0x7aed95523ab0>]\n"
          ]
        },
        {
          "name": "stdout",
          "output_type": "stream",
          "text": [
            "=> Saving checkpoint\n",
            "Got 15449872/17280000 with acc 89.41\n",
            "Dice score: 0.7843325734138489\n"
          ]
        },
        {
          "name": "stderr",
          "output_type": "stream",
          "text": [
            "100%|██████████| 32/32 [00:41<00:00,  1.30s/it, loss=<built-in method item of Tensor object at 0x7aed95535440>]\n"
          ]
        },
        {
          "name": "stdout",
          "output_type": "stream",
          "text": [
            "=> Saving checkpoint\n",
            "Got 15407807/17280000 with acc 89.17\n",
            "Dice score: 0.8051965236663818\n"
          ]
        },
        {
          "name": "stderr",
          "output_type": "stream",
          "text": [
            "100%|██████████| 32/32 [00:41<00:00,  1.31s/it, loss=<built-in method item of Tensor object at 0x7aed95522250>]\n"
          ]
        },
        {
          "name": "stdout",
          "output_type": "stream",
          "text": [
            "=> Saving checkpoint\n",
            "Got 15352603/17280000 with acc 88.85\n",
            "Dice score: 0.766822874546051\n"
          ]
        },
        {
          "name": "stderr",
          "output_type": "stream",
          "text": [
            "100%|██████████| 32/32 [00:42<00:00,  1.31s/it, loss=<built-in method item of Tensor object at 0x7aed955361b0>]\n"
          ]
        },
        {
          "name": "stdout",
          "output_type": "stream",
          "text": [
            "=> Saving checkpoint\n",
            "Got 15502458/17280000 with acc 89.71\n",
            "Dice score: 0.7892621159553528\n"
          ]
        },
        {
          "name": "stderr",
          "output_type": "stream",
          "text": [
            "100%|██████████| 32/32 [00:42<00:00,  1.33s/it, loss=<built-in method item of Tensor object at 0x7aed95535710>]\n"
          ]
        },
        {
          "name": "stdout",
          "output_type": "stream",
          "text": [
            "=> Saving checkpoint\n",
            "Got 15424461/17280000 with acc 89.26\n",
            "Dice score: 0.7705010175704956\n"
          ]
        },
        {
          "name": "stderr",
          "output_type": "stream",
          "text": [
            "100%|██████████| 32/32 [00:41<00:00,  1.31s/it, loss=<built-in method item of Tensor object at 0x7aed95522f70>]\n"
          ]
        },
        {
          "name": "stdout",
          "output_type": "stream",
          "text": [
            "=> Saving checkpoint\n",
            "Got 15231861/17280000 with acc 88.15\n",
            "Dice score: 0.7993014454841614\n"
          ]
        },
        {
          "name": "stderr",
          "output_type": "stream",
          "text": [
            "100%|██████████| 32/32 [00:41<00:00,  1.31s/it, loss=<built-in method item of Tensor object at 0x7aed95521800>]\n"
          ]
        },
        {
          "name": "stdout",
          "output_type": "stream",
          "text": [
            "=> Saving checkpoint\n",
            "Got 15469559/17280000 with acc 89.52\n",
            "Dice score: 0.780971884727478\n"
          ]
        },
        {
          "name": "stderr",
          "output_type": "stream",
          "text": [
            "100%|██████████| 32/32 [00:42<00:00,  1.33s/it, loss=<built-in method item of Tensor object at 0x7aed95554090>]\n"
          ]
        },
        {
          "name": "stdout",
          "output_type": "stream",
          "text": [
            "=> Saving checkpoint\n",
            "Got 15560244/17280000 with acc 90.05\n",
            "Dice score: 0.8177642226219177\n"
          ]
        },
        {
          "name": "stderr",
          "output_type": "stream",
          "text": [
            "100%|██████████| 32/32 [00:41<00:00,  1.31s/it, loss=<built-in method item of Tensor object at 0x7aed95555530>]\n"
          ]
        },
        {
          "name": "stdout",
          "output_type": "stream",
          "text": [
            "=> Saving checkpoint\n",
            "Got 15452665/17280000 with acc 89.43\n",
            "Dice score: 0.8167678117752075\n"
          ]
        },
        {
          "name": "stderr",
          "output_type": "stream",
          "text": [
            "100%|██████████| 32/32 [00:42<00:00,  1.33s/it, loss=<built-in method item of Tensor object at 0x7aed95568b80>]\n"
          ]
        },
        {
          "name": "stdout",
          "output_type": "stream",
          "text": [
            "=> Saving checkpoint\n",
            "Got 15580998/17280000 with acc 90.17\n",
            "Dice score: 0.8048250079154968\n"
          ]
        },
        {
          "name": "stderr",
          "output_type": "stream",
          "text": [
            "100%|██████████| 32/32 [00:41<00:00,  1.31s/it, loss=<built-in method item of Tensor object at 0x7aed9805fe20>]\n"
          ]
        },
        {
          "name": "stdout",
          "output_type": "stream",
          "text": [
            "=> Saving checkpoint\n",
            "Got 15631906/17280000 with acc 90.46\n",
            "Dice score: 0.8105065226554871\n"
          ]
        },
        {
          "name": "stderr",
          "output_type": "stream",
          "text": [
            "100%|██████████| 32/32 [00:41<00:00,  1.31s/it, loss=<built-in method item of Tensor object at 0x7aed955233d0>]\n"
          ]
        },
        {
          "name": "stdout",
          "output_type": "stream",
          "text": [
            "=> Saving checkpoint\n",
            "Got 15552350/17280000 with acc 90.00\n",
            "Dice score: 0.8187683820724487\n"
          ]
        },
        {
          "name": "stderr",
          "output_type": "stream",
          "text": [
            "100%|██████████| 32/32 [00:41<00:00,  1.31s/it, loss=<built-in method item of Tensor object at 0x7aed9556ba60>]\n"
          ]
        },
        {
          "name": "stdout",
          "output_type": "stream",
          "text": [
            "=> Saving checkpoint\n",
            "Got 15506793/17280000 with acc 89.74\n",
            "Dice score: 0.8148431181907654\n"
          ]
        }
      ],
      "source": [
        "def train_fun(loader, model, optimizer, loss_fun, scaler):\n",
        "  loop = tqdm(loader)\n",
        "\n",
        "  for batch_idx, (data, targets) in enumerate(loop):\n",
        "    data = data.to(device=DEVICE)\n",
        "    targets = targets.float().unsqueeze(1).to(device=DEVICE)\n",
        "\n",
        "    # forward\n",
        "    with torch.cuda.amp.autocast():\n",
        "      predictions = model(data)\n",
        "      loss = loss_fun(predictions, targets)\n",
        "\n",
        "\n",
        "    # backward\n",
        "    optimizer.zero_grad()\n",
        "    scaler.scale(loss).backward()\n",
        "    scaler.step(optimizer)\n",
        "    scaler.update()\n",
        "\n",
        "    # update tqdm loop\n",
        "    loop.set_postfix(loss=loss.item)\n",
        "\n",
        "\n",
        "train_transform = A.Compose(\n",
        "      [\n",
        "          A.Resize(height=HEIGHT, width=WIDTH),\n",
        "          A.Rotate(limit=35, p=0.3),\n",
        "          A.HorizontalFlip(p=0.2),\n",
        "          A.VerticalFlip(p=0.1),\n",
        "          A.Normalize(\n",
        "              mean=[0.0, 0.0, 0.0],\n",
        "              std=[1.0, 1.0, 1.0],\n",
        "              max_pixel_value=255.0,\n",
        "          ),\n",
        "          ToTensorV2(),\n",
        "      ],\n",
        "  )\n",
        "\n",
        "val_transforms = A.Compose(\n",
        "      [\n",
        "          A.Resize(height=HEIGHT, width=WIDTH),\n",
        "          A.Normalize(\n",
        "              mean=[0.0, 0.0, 0.0],\n",
        "              std=[1.0, 1.0, 1.0],\n",
        "              max_pixel_value=255.0,\n",
        "          ),\n",
        "          ToTensorV2(),\n",
        "      ],\n",
        "  )\n",
        "\n",
        "model = UNet(in_channels=3, out_channels=1).to(DEVICE)\n",
        "loss_fun = nn.BCEWithLogitsLoss()\n",
        "optimizer = optim.Adam(model.parameters(), lr=LR)\n",
        "\n",
        "train_loader, val_loader = get_loaders(\n",
        "      TRAIN_IMG_DIR,\n",
        "      TRAIN_MASK_DIR,\n",
        "      TEST_IMG_DIR,\n",
        "      TEST_MASK_DIR,\n",
        "      BATCH_SIZE,\n",
        "      train_transform,\n",
        "      val_transforms,\n",
        "      WORKERS,\n",
        "      PIN_MEMORY,\n",
        "  )\n",
        "\n",
        "if LOAD_MODEL:\n",
        "    load_checkpoint(torch.load(\"my_checkpoint.pth.tar\"), model)\n",
        "\n",
        "scaler = torch.cuda.amp.GradScaler()\n",
        "\n",
        "for epoch in range(EPOCHS):\n",
        "  train_fun(train_loader, model, optimizer, loss_fun, scaler)\n",
        "\n",
        "  # save model\n",
        "  checkpoint = {\n",
        "    \"state_dict\": model.state_dict(),\n",
        "    \"optimizer\": optimizer.state_dict(),\n",
        "  }\n",
        "\n",
        "  save_checkpoint(checkpoint)\n",
        "\n",
        "  # check accuracy\n",
        "  check_accuracy(val_loader, model, device=DEVICE)\n",
        "\n",
        "  # print some of predictions\n",
        "  save_predictions_as_imgs(val_loader, model, folder=\"saved_images\", device=DEVICE)"
      ]
    }
  ],
  "metadata": {
    "accelerator": "GPU",
    "colab": {
      "gpuType": "T4",
      "provenance": []
    },
    "kernelspec": {
      "display_name": "Python 3",
      "name": "python3"
    },
    "language_info": {
      "name": "python"
    }
  },
  "nbformat": 4,
  "nbformat_minor": 0
}
